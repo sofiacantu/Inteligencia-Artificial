{
  "nbformat": 4,
  "nbformat_minor": 0,
  "metadata": {
    "colab": {
      "name": "IA_ExamenMedioCurso_SofíaRaquelCantúMaltos_1811086",
      "provenance": [],
      "authorship_tag": "ABX9TyMzTb7lm39to/tKSaGnM2FB",
      "include_colab_link": true
    },
    "kernelspec": {
      "name": "python3",
      "display_name": "Python 3"
    },
    "language_info": {
      "name": "python"
    }
  },
  "cells": [
    {
      "cell_type": "markdown",
      "metadata": {
        "id": "view-in-github",
        "colab_type": "text"
      },
      "source": [
        "<a href=\"https://colab.research.google.com/github/sofiacantu/Inteligencia-Artificial/blob/main/IA_ExamenMedioCurso_Sof%C3%ADaRaquelCant%C3%BAMaltos_1811086.ipynb\" target=\"_parent\"><img src=\"https://colab.research.google.com/assets/colab-badge.svg\" alt=\"Open In Colab\"/></a>"
      ]
    },
    {
      "cell_type": "code",
      "metadata": {
        "id": "AXCEcbzPC9W9"
      },
      "source": [
        "Examen de Medio curso \n",
        "Sofía Raquel Cantú Maltos. \n",
        "1811086. \n",
        "jueves N4"
      ],
      "execution_count": null,
      "outputs": []
    },
    {
      "cell_type": "code",
      "metadata": {
        "colab": {
          "base_uri": "https://localhost:8080/"
        },
        "id": "S65wJXTODNzr",
        "outputId": "85be072d-0b72-47f2-cd3c-dc6626493725"
      },
      "source": [
        "\"Código 1\"\n",
        "lista = [10, 15, 17, 21, 22, 34, 37, 40, 45, 52, 66, 68, 81, 84, 91, 94, 102, 105, 109]\n",
        "for numimpares in lista:\n",
        "  if(numimpares %2 ==1):\n",
        "    print(numimpares)"
      ],
      "execution_count": 26,
      "outputs": [
        {
          "output_type": "stream",
          "name": "stdout",
          "text": [
            "15\n",
            "17\n",
            "21\n",
            "37\n",
            "45\n",
            "81\n",
            "91\n",
            "105\n",
            "109\n"
          ]
        }
      ]
    },
    {
      "cell_type": "code",
      "metadata": {
        "colab": {
          "base_uri": "https://localhost:8080/"
        },
        "id": "ixa0Rh-yGBwJ",
        "outputId": "61d324ff-1bbb-4bb5-a588-ca578d4eee1c"
      },
      "source": [
        "\"Código 2\"\n",
        "print(\"Cuales son sus 5 péliculas favoritas? (Siendo la primera la más favorita y la quinta la menos favorita)\")\n",
        "peli1= input()\n",
        "peli2= input()\n",
        "peli3= input()\n",
        "peli4= input()\n",
        "peli5= input()\n",
        "\n",
        "lista = [peli1, peli2, peli3, peli4, peli5]\n",
        "\n",
        "j=1\n",
        "for j in range(0,5):\n",
        "  print(f\"La pelicula\", lista[j], \"está en la posición\", j+1 , \"de mi top 5\")\n",
        " "
      ],
      "execution_count": 49,
      "outputs": [
        {
          "output_type": "stream",
          "name": "stdout",
          "text": [
            "Cuales son sus 5 péliculas favoritas? (Siendo la primera la más favorita y la quinta la menos favorita)\n",
            "cars\n",
            "barbie\n",
            "coco\n",
            "monster inc\n",
            "up\n",
            "La pelicula cars está en la posición 1 de mi top 5\n",
            "La pelicula barbie está en la posición 2 de mi top 5\n",
            "La pelicula coco está en la posición 3 de mi top 5\n",
            "La pelicula monster inc está en la posición 4 de mi top 5\n",
            "La pelicula up está en la posición 5 de mi top 5\n"
          ]
        }
      ]
    }
  ]
}