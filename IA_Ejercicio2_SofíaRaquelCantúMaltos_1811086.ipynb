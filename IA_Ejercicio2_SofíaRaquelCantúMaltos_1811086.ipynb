{
  "nbformat": 4,
  "nbformat_minor": 0,
  "metadata": {
    "colab": {
      "name": "IA_Ejercicio2_SofíaRaquelCantúMaltos_1811086",
      "provenance": [],
      "authorship_tag": "ABX9TyM1VrIjc6HNi0qhEtXEdG6p",
      "include_colab_link": true
    },
    "kernelspec": {
      "name": "python3",
      "display_name": "Python 3"
    },
    "language_info": {
      "name": "python"
    }
  },
  "cells": [
    {
      "cell_type": "markdown",
      "metadata": {
        "id": "view-in-github",
        "colab_type": "text"
      },
      "source": [
        "<a href=\"https://colab.research.google.com/github/sofiacantu/Inteligencia-Artificial/blob/main/IA_Ejercicio2_Sof%C3%ADaRaquelCant%C3%BAMaltos_1811086.ipynb\" target=\"_parent\"><img src=\"https://colab.research.google.com/assets/colab-badge.svg\" alt=\"Open In Colab\"/></a>"
      ]
    },
    {
      "cell_type": "code",
      "metadata": {
        "colab": {
          "base_uri": "https://localhost:8080/"
        },
        "id": "LmPzqOTBdVo2",
        "outputId": "cd92b942-a9a1-4cce-eb9c-7ae440dea8a4"
      },
      "source": [
        "\"Ejercicio 1\"\n",
        "print(\"Cuales son tus 7 comidas favoritas?\")\n",
        "comida1 = input()\n",
        "comida2 = input()\n",
        "comida3 = input()\n",
        "comida4 = input()\n",
        "comida5 = input()\n",
        "comida6 = input()\n",
        "comida7 = input()\n",
        "\n",
        "lista= [comida1,comida2,comida3,comida4,comida5,comida6,comida7]\n"
      ],
      "execution_count": 14,
      "outputs": [
        {
          "name": "stdout",
          "output_type": "stream",
          "text": [
            "Cuales son tus 7 comidas favoritas?\n",
            "toacos\n",
            "flautas\n",
            "sopes\n",
            "sopa\n",
            "enchiladas\n",
            "molletes\n",
            "tostadas\n"
          ]
        },
        {
          "output_type": "execute_result",
          "data": {
            "text/plain": [
              "['toacos', 'flautas', 'sopes', 'sopa', 'enchiladas', 'molletes', 'tostadas']"
            ]
          },
          "metadata": {},
          "execution_count": 14
        }
      ]
    },
    {
      "cell_type": "code",
      "metadata": {
        "colab": {
          "base_uri": "https://localhost:8080/"
        },
        "id": "BdqRIAYg684e",
        "outputId": "22804920-aba1-459d-883a-a6a42c020196"
      },
      "source": [
        "\"Ejercicio 1.1\"\n",
        "print(\"Cuales son tus 7 comidas favoritas?\")\n",
        "comida1 = input()\n",
        "comida2 = input()\n",
        "comida3 = input()\n",
        "comida4 = input()\n",
        "comida5 = input()\n",
        "comida6 = input()\n",
        "comida7 = input()\n",
        "\n",
        "lista= [comida1,comida2,comida3,comida4,comida5,comida6,comida7]\n",
        "\n",
        "print ('Una de mis comidas favoritas es', comida1)\n",
        "print ('Una de mis comidas favoritas es', comida2)\n",
        "print ('Una de mis comidas favoritas es', comida3)\n",
        "print ('Una de mis comidas favoritas es', comida4)\n",
        "print ('Una de mis comidas favoritas es', comida5)\n",
        "print ('Una de mis comidas favoritas es', comida6)\n",
        "print ('Una de mis comidas favoritas es', comida7)\n"
      ],
      "execution_count": 16,
      "outputs": [
        {
          "output_type": "stream",
          "name": "stdout",
          "text": [
            "Cuales son tus 7 comidas favoritas?\n",
            "tacos\n",
            "sopes\n",
            "flautas\n",
            "pozole \n",
            "sopa \n",
            "enchiladas\n",
            "sandwich \n",
            "Una de mis comidas favoritas es tacos\n",
            "Una de mis comidas favoritas es sopes\n",
            "Una de mis comidas favoritas es flautas\n",
            "Una de mis comidas favoritas es pozole \n",
            "Una de mis comidas favoritas es sopa \n",
            "Una de mis comidas favoritas es enchiladas\n",
            "Una de mis comidas favoritas es sandwich \n"
          ]
        }
      ]
    },
    {
      "cell_type": "code",
      "metadata": {
        "colab": {
          "base_uri": "https://localhost:8080/"
        },
        "id": "sBlduL4pNLo-",
        "outputId": "e24240c0-5fa8-48b2-d76b-ed071a585871"
      },
      "source": [
        "\"Ejercicio 2\"\n",
        "\n",
        "print(\"Jugador 1, piedra, papel o tijera?\")\n",
        "jugador1 = input()\n",
        "\n",
        "print(\"Jugador 2, piedra, papel o tijera?\")\n",
        "jugador2 = input()\n",
        "\n",
        "if jugador1 == \"piedra\" and jugador2 == \"papel\":\n",
        "    print(\"el ganador es jugador 2\")\n",
        "elif jugador1 == \"papel\" and jugador2 == \"tijera\":\n",
        "    print(\"el ganador es jugador 2\")\n",
        "elif jugador1 == \"tijera\" and jugador2 == \"piedra\":\n",
        "    print(\"el ganador es jugador 2\")\n",
        "elif jugador2 == \"piedra\" and jugador1 == \"papel\":\n",
        "    print(\"el ganador es jugador 1\")\n",
        "elif jugador2 == \"papel\" and jugador1 == \"tijera\":\n",
        "    print(\"el ganador es jugador 1\")\n",
        "elif jugador2 == \"tijera\" and jugador1 == \"piedra\":\n",
        "    print(\"el ganador es jugador 1\")\n",
        "\n"
      ],
      "execution_count": 35,
      "outputs": [
        {
          "output_type": "stream",
          "name": "stdout",
          "text": [
            "Jugador 1, piedra, papel o tijera?\n",
            "piedra\n",
            "Jugador 2, piedra, papel o tijera?\n",
            "papel\n",
            "el ganador es jugador 2\n"
          ]
        }
      ]
    },
    {
      "cell_type": "code",
      "metadata": {
        "colab": {
          "base_uri": "https://localhost:8080/"
        },
        "id": "m79FZq52PR4P",
        "outputId": "4072beef-c1fc-4110-b1d5-946db5a99e4a"
      },
      "source": [
        "\"Ejercicio 3\"\n",
        "lista= [123456,12345,1234,123,12,1,12,123,1234,12345,123456]\n",
        "\n",
        "print (lista[0])\n",
        "print (lista[1])\n",
        "print (lista[2])\n",
        "print (lista[3])\n",
        "print (lista[4])\n",
        "print (lista[5])\n",
        "print (lista[6])\n",
        "print (lista[7])\n",
        "print (lista[8])\n",
        "print (lista[9])\n",
        "print (lista[10])"
      ],
      "execution_count": 54,
      "outputs": [
        {
          "output_type": "stream",
          "name": "stdout",
          "text": [
            "123456\n",
            "12345\n",
            "1234\n",
            "123\n",
            "12\n",
            "1\n",
            "12\n",
            "123\n",
            "1234\n",
            "12345\n",
            "123456\n"
          ]
        }
      ]
    }
  ]
}